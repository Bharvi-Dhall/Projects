{
 "cells": [
  {
   "cell_type": "markdown",
   "metadata": {},
   "source": [
    "### INTRODUCTION TO PYTHON ###"
   ]
  },
  {
   "cell_type": "code",
   "execution_count": 1,
   "metadata": {},
   "outputs": [
    {
     "name": "stdout",
     "output_type": "stream",
     "text": [
      "10 HI\n"
     ]
    }
   ],
   "source": [
    "# A variable is used to assign values in python.\n",
    "# The variables cannot start with a number or cannot have a name given to builtin functions.\n",
    "# You can assign different types of things like numbers,text to a variable.\n",
    "\n",
    "var = 10  # assigns variable value 10\n",
    "var2 = 'HI'  # assigns text to a variable\n",
    "\n",
    "print(var,var2)  # prints whatever stored in variable"
   ]
  },
  {
   "cell_type": "code",
   "execution_count": 3,
   "metadata": {},
   "outputs": [
    {
     "name": "stdout",
     "output_type": "stream",
     "text": [
      "30\n",
      "1010\n"
     ]
    }
   ],
   "source": [
    "# NOTE :Number written without quotes is treated as integer else it is treated as strings by python\n",
    "\n",
    "x = 10\n",
    "y = 20\n",
    "z = \"10\"\n",
    "\n",
    "add = x+y    # this will be 30\n",
    "add2 = z+z   # this prints 10 concatenated with 10\n",
    "\n",
    "print(add)\n",
    "print(add2)\n",
    "\n",
    "# you cannot add x+z, it will throw an error. "
   ]
  },
  {
   "cell_type": "code",
   "execution_count": 4,
   "metadata": {},
   "outputs": [
    {
     "name": "stdout",
     "output_type": "stream",
     "text": [
      "<class 'float'>\n"
     ]
    }
   ],
   "source": [
    "#To check the data type or class\n",
    "\n",
    "x= 10.1\n",
    "\n",
    "print(type(x))"
   ]
  },
  {
   "cell_type": "markdown",
   "metadata": {},
   "source": [
    "#### SPECIAL DATA TYPES IN PYTHON ####"
   ]
  },
  {
   "cell_type": "code",
   "execution_count": 6,
   "metadata": {},
   "outputs": [
    {
     "name": "stdout",
     "output_type": "stream",
     "text": [
      "['Gary', 'Olive', 'Caohime'] <class 'list'>\n",
      "('Mon', 'Tue', 'Wed', 'Thurs', 'Fri', 'Sat', 'Sun') <class 'tuple'>\n",
      "{'carbon': 2, 'hydrogen': 1} <class 'dict'>\n",
      "dict_keys(['carbon', 'hydrogen'])\n"
     ]
    },
    {
     "data": {
      "text/plain": [
       "dict_values([2, 1])"
      ]
     },
     "execution_count": 6,
     "metadata": {},
     "output_type": "execute_result"
    }
   ],
   "source": [
    "## LISTS, TUPLES AND DICTIONARIES\n",
    "\n",
    "##LISTS - They are ordered and mutable, that is, you can modify them anytime.\n",
    "# they are written in [] square brackets.\n",
    "\n",
    "students = [\"Gary\", \"Olive\", \"Caohime\"]\n",
    "print(students, type(students))\n",
    "\n",
    "##TUPLES - They are also ordered but immutable. Cannot be modified later on.\n",
    "# they are written in () curly brackets.\n",
    "\n",
    "days = (\"Mon\",\"Tue\",\"Wed\", \"Thurs\", \"Fri\", \"Sat\",\"Sun\")\n",
    "print(days, type(days))\n",
    "\n",
    "##DICTIONARIES - They are defined in pairs (key and value). \n",
    "#Value is assigned to every key. Syntax - {key:value}\n",
    "\n",
    "elements = {\"carbon\":2 , \"hydrogen\" :1}\n",
    "print(elements, type(elements))\n",
    "\n",
    "print(elements.keys())       # to extract keys\n",
    "print(elements.values())     # to extract values\n"
   ]
  },
  {
   "cell_type": "code",
   "execution_count": null,
   "metadata": {},
   "outputs": [],
   "source": []
  }
 ],
 "metadata": {
  "kernelspec": {
   "display_name": "Python 3",
   "language": "python",
   "name": "python3"
  },
  "language_info": {
   "codemirror_mode": {
    "name": "ipython",
    "version": 3
   },
   "file_extension": ".py",
   "mimetype": "text/x-python",
   "name": "python",
   "nbconvert_exporter": "python",
   "pygments_lexer": "ipython3",
   "version": "3.7.3"
  }
 },
 "nbformat": 4,
 "nbformat_minor": 2
}
